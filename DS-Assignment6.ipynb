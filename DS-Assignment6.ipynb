{
 "cells": [
  {
   "cell_type": "markdown",
   "id": "835decab",
   "metadata": {},
   "source": [
    "1. \\t, \\n\n",
    "2. \\n for new line and \\t for the tab\n",
    "3. \\\\\n",
    "4. bcz its encoded by the doube qutoes(\")\n",
    "5. using ''' string goes \n",
    "            here '''\n",
    "6. e,\n",
    "   'Hello',\n",
    "   'Hello'\n",
    "   'l0, world!'\n",
    "   \n",
    "7. 'HELLO', True, 'hello'\n",
    "8. ['Remember,', 'remember,', 'the', 'fifth', 'of', 'July.'], There-can-only-one\n",
    "9. string.rjust() and string.ljust()\n",
    "10. string.strip()\n",
    " "
   ]
  }
 ],
 "metadata": {
  "kernelspec": {
   "display_name": "Python 3 (ipykernel)",
   "language": "python",
   "name": "python3"
  },
  "language_info": {
   "codemirror_mode": {
    "name": "ipython",
    "version": 3
   },
   "file_extension": ".py",
   "mimetype": "text/x-python",
   "name": "python",
   "nbconvert_exporter": "python",
   "pygments_lexer": "ipython3",
   "version": "3.9.7"
  }
 },
 "nbformat": 4,
 "nbformat_minor": 5
}
