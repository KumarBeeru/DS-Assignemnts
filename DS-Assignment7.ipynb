{
 "cells": [
  {
   "cell_type": "markdown",
   "id": "f9370542",
   "metadata": {},
   "source": [
    "1. import regEx library and call the compile() method.\n",
    "2. its preventing to escape the backslash\n",
    "3. Match Object\n",
    "4. group() method\n",
    "5. group 0 will contain entire match, group 2 secound one and group 1 first one.\n",
    "6. using the backslash '\\', like '\\(', '\\)'\n",
    "7. string in case of there is no any group, otherwise its return a list of toupe of strings\n",
    "8. either or\n",
    "9. Zero or one occurrences\n",
    "10. + means one or more occurence and * means zero or more occureance\n",
    "11. {4} is used to exact maching while {4,5} its matching between 4 to 5\n",
    "12. \\d returns a match where the string contains digits (0-9), \\w returns a match where the string contains any word charecter ( charecters from a - Z, digits 0-9 and underscore _ ) and \\s return a match of white space in the given string.\n",
    "13. \\D return a match where string does not conatian any digits,\\W return a match where string does not conatain any word charecter, and \\S return a match where string does not contain any white space.\n",
    "14. .*? return one or more value in list while .* return only one value.\n",
    "15. [0-9a-z]\n",
    "16. using IGNORECASE as second paramter in compile method of the re module\n",
    "17. . normally matches any character except the newline character. If re.DOTALL is passed as the second argument       to re.compile(), then the dot will also match newline characters.\n",
    "18. X drummers, X pipers, five rings, X hen\n",
    "19. re.VERBOSE allow to add the comment and whitespace with string passed to the re.compile method.\n",
    "20. re.compile(r'^\\d{1,3}(,\\d{3})*$')\n",
    "21. re.compile(r'[A-Z][a-z]*\\sWatanabe')\n",
    "22. re.compile(r'(Alice|Bob|Carol)\\s(eats|pets|throws)\\s(apples|cats|baseballs)\\.', re.IGNORECASE)"
   ]
  }
 ],
 "metadata": {
  "kernelspec": {
   "display_name": "Python 3 (ipykernel)",
   "language": "python",
   "name": "python3"
  },
  "language_info": {
   "codemirror_mode": {
    "name": "ipython",
    "version": 3
   },
   "file_extension": ".py",
   "mimetype": "text/x-python",
   "name": "python",
   "nbconvert_exporter": "python",
   "pygments_lexer": "ipython3",
   "version": "3.9.12"
  }
 },
 "nbformat": 4,
 "nbformat_minor": 5
}
