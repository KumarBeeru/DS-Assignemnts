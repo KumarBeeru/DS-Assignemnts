{
 "cells": [
  {
   "cell_type": "markdown",
   "id": "32e062d7",
   "metadata": {},
   "source": [
    "1. empty list value\n",
    "2. spam[2] =\"Hello\"\n",
    "3. d\n",
    "4. d\n",
    "5. ['a', 'b']\n",
    "6. 1\n",
    "7. [3.14, 'cat', 11, 'cat', True, 99]\n",
    "8. [3.14, 11, 'cat', True]\n",
    "9. concatinator(+), replication(*)\n",
    "10. insert() method add any value at a specific index, while append add at the end\n",
    "11. using del statement and remove method\n",
    "12. string is a collection of the charecters, while list can have any types of the elements, but both store tha vlaues in the same manner.\n",
    "13. tuples are immutable while lists are mutable.\n",
    "14. (42,)\n",
    "15. usting type casting\n",
    "16. string\n",
    "17. copy.copy() used to capy the reference while copy.deepcopy() is used to capy the enrire object."
   ]
  }
 ],
 "metadata": {
  "kernelspec": {
   "display_name": "Python 3 (ipykernel)",
   "language": "python",
   "name": "python3"
  },
  "language_info": {
   "codemirror_mode": {
    "name": "ipython",
    "version": 3
   },
   "file_extension": ".py",
   "mimetype": "text/x-python",
   "name": "python",
   "nbconvert_exporter": "python",
   "pygments_lexer": "ipython3",
   "version": "3.9.7"
  }
 },
 "nbformat": 4,
 "nbformat_minor": 5
}
