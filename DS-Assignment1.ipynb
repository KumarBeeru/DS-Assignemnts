{
 "cells": [
  {
   "cell_type": "markdown",
   "id": "3d298952",
   "metadata": {},
   "source": [
    "1.  Values :  \"hello\", -87.8, 6 \n",
    "    Expression :  *, -, /, +"
   ]
  },
  {
   "cell_type": "markdown",
   "id": "f18d1f5a",
   "metadata": {},
   "source": [
    "2.  string is a value while variable is a container."
   ]
  },
  {
   "cell_type": "markdown",
   "id": "e8650b50",
   "metadata": {},
   "source": [
    "3. Three datatypes of pythons:\n",
    "    a. Number: Identify numeric vaule,  that we can use in mathematical operation\n",
    "    b. Set: Set of unique value in unordered list\n",
    "    c. String: String is a sequence of unicode charecters"
   ]
  },
  {
   "cell_type": "markdown",
   "id": "a11aaa29",
   "metadata": {},
   "source": [
    "4. Expression is the combination of the opearnds and operators. Its used to obtain a specific result."
   ]
  },
  {
   "cell_type": "markdown",
   "id": "c5f9cd93",
   "metadata": {},
   "source": [
    "5. Expression is used to perform a operation while assignment operator is used to assign the result or value to the variable."
   ]
  },
  {
   "cell_type": "markdown",
   "id": "92ccfef6",
   "metadata": {},
   "source": [
    "6. bacon = 22"
   ]
  },
  {
   "cell_type": "markdown",
   "id": "998c9291",
   "metadata": {},
   "source": [
    "7. 'spamspamspam' in both terms."
   ]
  },
  {
   "cell_type": "markdown",
   "id": "06cf0483",
   "metadata": {},
   "source": [
    "8. Because variable name can not start with a number."
   ]
  },
  {
   "cell_type": "markdown",
   "id": "344f5e7f",
   "metadata": {},
   "source": [
    "9. int() for integer, float() for floating-points and str() for string "
   ]
  },
  {
   "cell_type": "markdown",
   "id": "a46f37f5",
   "metadata": {},
   "source": [
    "10.  here 99 is na integer so it can not concatenate with the string. we can fix using typecast.  \n",
    "'i have eaten '+ str(99) + 'burritos'\n"
   ]
  }
 ],
 "metadata": {
  "kernelspec": {
   "display_name": "Python 3 (ipykernel)",
   "language": "python",
   "name": "python3"
  },
  "language_info": {
   "codemirror_mode": {
    "name": "ipython",
    "version": 3
   },
   "file_extension": ".py",
   "mimetype": "text/x-python",
   "name": "python",
   "nbconvert_exporter": "python",
   "pygments_lexer": "ipython3",
   "version": "3.9.7"
  }
 },
 "nbformat": 4,
 "nbformat_minor": 5
}
