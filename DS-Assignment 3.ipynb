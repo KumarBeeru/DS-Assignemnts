{
 "cells": [
  {
   "cell_type": "markdown",
   "id": "4584142a",
   "metadata": {},
   "source": [
    "1. Its break the code in multiple sub section and reduce the duplicasy of the code.\n",
    "2. function code run when the function called, we call function when we required to execute that task.\n",
    "3. def functionName(parameters)\n",
    "4. function is a block of the statements while function call is when we call that block to execute.\n",
    "5. No of globle scope = 1. Normally we count only one local scope but we can consider enclosing and built in scopes as local scope.\n",
    "6. local variables will have been destroyed.\n",
    "7. Return statement is used to return a value from the block.An expression is a combination of the operands and operator who returns a different value, so we can return an expression.\n",
    "8. None\n",
    "9. using global keywords.\n",
    "10. NoneType\n",
    "11. its allow us to call all functions of the areallyourpetsnamederic modules.\n",
    "12. spam.bacon()\n",
    "13. i will use try...except block\n",
    "14. in try block we write the logical statements and in except block we write the statements for handle the exception generated in try block's statements. \n"
   ]
  }
 ],
 "metadata": {
  "kernelspec": {
   "display_name": "Python 3 (ipykernel)",
   "language": "python",
   "name": "python3"
  },
  "language_info": {
   "codemirror_mode": {
    "name": "ipython",
    "version": 3
   },
   "file_extension": ".py",
   "mimetype": "text/x-python",
   "name": "python",
   "nbconvert_exporter": "python",
   "pygments_lexer": "ipython3",
   "version": "3.9.7"
  }
 },
 "nbformat": 4,
 "nbformat_minor": 5
}
