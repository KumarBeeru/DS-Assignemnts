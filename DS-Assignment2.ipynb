{
 "cells": [
  {
   "cell_type": "markdown",
   "id": "f4277aaa",
   "metadata": {},
   "source": [
    "1.  True and False,"
   ]
  },
  {
   "cell_type": "markdown",
   "id": "f93c2cd4",
   "metadata": {},
   "source": [
    "2. and, or, not"
   ]
  },
  {
   "cell_type": "markdown",
   "id": "245e01e6",
   "metadata": {},
   "source": [
    "3. \n",
    "and operator: \n",
    "\n",
    "    a     and   b   |  result\n",
    "-------------------------------------\n",
    "True | False   | False\n",
    "True | True    | True\n",
    "False| True    | False\n",
    "False| False   | False\n",
    "\n",
    "\n",
    "or operator: \n",
    "\n",
    "    a   or b   |  result\n",
    "-------------------------------------\n",
    "True | False   | True\n",
    "True | True    | True\n",
    "False| True    | True\n",
    "False| False   | False\n",
    "\n",
    "not operator\n",
    "\n",
    "        a   |  result \n",
    "-----------------------------------\n",
    " True       | False\n",
    " False      | True"
   ]
  },
  {
   "cell_type": "markdown",
   "id": "755e5617",
   "metadata": {},
   "source": [
    "4.  \n",
    "#(5>4) and (3==5) => False\n",
    "#not(5>4) =>  False\n",
    "#(5>4) or (3==5) => True\n",
    "#not((5>4) or (3==5)) => False\n",
    "#(True and True) and (True == False) => False\n",
    "#(not False) or (not True) => True"
   ]
  },
  {
   "cell_type": "markdown",
   "id": "d1593575",
   "metadata": {},
   "source": [
    "5.\n",
    "==\tEqual\t\n",
    "!=\tNot equal\n",
    "> Greater than\t\n",
    "<\tLess than\t\n",
    ">=\tGreater than or equal to\n",
    "<=\tLess than or equal to\n"
   ]
  },
  {
   "cell_type": "markdown",
   "id": "e8a9ef16",
   "metadata": {},
   "source": [
    "6. = (assignment) operator is used to assign the value while == equal to is used to comparing two boolean value."
   ]
  },
  {
   "cell_type": "markdown",
   "id": "8670e0d5",
   "metadata": {},
   "source": [
    "7.  \n",
    " i. if spam == 10:\n",
    "        print(\"eggs\")\n",
    "       \n",
    " ii. if spam > 5:\n",
    "        print(\"bacon\")\n",
    "        \n",
    "iii. else:\n",
    "        print(\"ham\")"
   ]
  },
  {
   "cell_type": "markdown",
   "id": "33112296",
   "metadata": {},
   "source": [
    "8.\n",
    "span = int(input(\"Enter any no.\"))\n",
    "if(span == 1):\n",
    "    print(\"Hello\")\n",
    "elif (span == 2):\n",
    "    print(\"Howdy\")\n",
    "else:\n",
    "    print(\"Greetings!\")\n"
   ]
  },
  {
   "cell_type": "markdown",
   "id": "1994e9a1",
   "metadata": {},
   "source": [
    "9. CTRL + C"
   ]
  },
  {
   "cell_type": "markdown",
   "id": "8ef8a64e",
   "metadata": {},
   "source": [
    "10. continue skip the rest statement of the block in loop for that iteration while break exit from the block"
   ]
  },
  {
   "cell_type": "markdown",
   "id": "182677e5",
   "metadata": {},
   "source": [
    "11. I think there is not any deifference among them, bcz all will produce the same result."
   ]
  },
  {
   "cell_type": "markdown",
   "id": "9681c0fb",
   "metadata": {},
   "source": [
    "12. \n",
    "# using for loop\n",
    "for num in range(1, 11):\n",
    "    print(num)\n",
    "    \n",
    "# using while loop\n",
    "num = 1\n",
    "while num <= 10:\n",
    "    print(num)\n",
    "    num = num +1"
   ]
  },
  {
   "cell_type": "markdown",
   "id": "8f678f3c",
   "metadata": {},
   "source": [
    "13.  spam.bacon()"
   ]
  }
 ],
 "metadata": {
  "kernelspec": {
   "display_name": "Python 3 (ipykernel)",
   "language": "python",
   "name": "python3"
  },
  "language_info": {
   "codemirror_mode": {
    "name": "ipython",
    "version": 3
   },
   "file_extension": ".py",
   "mimetype": "text/x-python",
   "name": "python",
   "nbconvert_exporter": "python",
   "pygments_lexer": "ipython3",
   "version": "3.9.7"
  }
 },
 "nbformat": 4,
 "nbformat_minor": 5
}
