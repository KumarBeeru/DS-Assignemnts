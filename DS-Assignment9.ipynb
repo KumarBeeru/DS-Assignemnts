{
 "cells": [
  {
   "cell_type": "markdown",
   "id": "455eb69f",
   "metadata": {},
   "source": [
    "1. A location that is relative to the current directory.\n",
    "2. A abolute path means it a complete path to that direcoty, its begin from the home direcotry.\n",
    "3. os.chdir() is used for switch the directory, while os.getcwd() is used for the get path of the current directory.\n",
    "4. . is used to represen the current directory while .. represent the parent directory.\n",
    "5. base name spam.txt, directory name is eggs.\n",
    "6. r, a, w\n",
    "7. it will delete the all content and treat file as a new one.\n",
    "8. read() returns the all file data at a time as a single string, while readline() return a list of strings.\n",
    "9. A shelf value resembles a dictionary value; it has keys and values, along with keys() and values() methods that work similarly to the dictionary methods of the same names"
   ]
  }
 ],
 "metadata": {
  "kernelspec": {
   "display_name": "Python 3 (ipykernel)",
   "language": "python",
   "name": "python3"
  },
  "language_info": {
   "codemirror_mode": {
    "name": "ipython",
    "version": 3
   },
   "file_extension": ".py",
   "mimetype": "text/x-python",
   "name": "python",
   "nbconvert_exporter": "python",
   "pygments_lexer": "ipython3",
   "version": "3.9.12"
  }
 },
 "nbformat": 4,
 "nbformat_minor": 5
}
