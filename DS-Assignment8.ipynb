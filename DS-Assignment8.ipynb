{
 "cells": [
  {
   "cell_type": "markdown",
   "id": "f4e04793",
   "metadata": {},
   "source": [
    "1. No, Its a additonal library,\n",
    "2. We are making alias, bcz we can use alias (pypi) instead of pyinputplus.\n",
    "3. inputInt(): accept integer value while inputFloat() accept floating point numeric value.\n",
    "4. pyip.inputInt(prompt=\"Enter Number\", min=0, max=99)\n",
    "5. allowRegexes accept the value when any regex matched, blockRegexes reject the value when regex matched.\n",
    "6. It will generate the validation exception\n",
    "7. It will print the default value and move to the next statement."
   ]
  }
 ],
 "metadata": {
  "kernelspec": {
   "display_name": "Python 3 (ipykernel)",
   "language": "python",
   "name": "python3"
  },
  "language_info": {
   "codemirror_mode": {
    "name": "ipython",
    "version": 3
   },
   "file_extension": ".py",
   "mimetype": "text/x-python",
   "name": "python",
   "nbconvert_exporter": "python",
   "pygments_lexer": "ipython3",
   "version": "3.9.12"
  }
 },
 "nbformat": 4,
 "nbformat_minor": 5
}
