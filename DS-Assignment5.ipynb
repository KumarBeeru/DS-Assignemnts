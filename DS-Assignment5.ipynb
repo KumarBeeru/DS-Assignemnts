{
 "cells": [
  {
   "cell_type": "markdown",
   "id": "64ed5430",
   "metadata": {},
   "source": [
    "1. {}\n",
    "2. {\"foo\": 42}\n",
    "3. list can not have the user defined index while in distonary can have.\n",
    "4. it will generate KeyError\n",
    "5. \n",
    "6.\n",
    "7. spam.update({'color': 'black'})\n",
    "8. using import pprint module and call pprint.pprint() method"
   ]
  }
 ],
 "metadata": {
  "kernelspec": {
   "display_name": "Python 3 (ipykernel)",
   "language": "python",
   "name": "python3"
  },
  "language_info": {
   "codemirror_mode": {
    "name": "ipython",
    "version": 3
   },
   "file_extension": ".py",
   "mimetype": "text/x-python",
   "name": "python",
   "nbconvert_exporter": "python",
   "pygments_lexer": "ipython3",
   "version": "3.9.7"
  }
 },
 "nbformat": 4,
 "nbformat_minor": 5
}
