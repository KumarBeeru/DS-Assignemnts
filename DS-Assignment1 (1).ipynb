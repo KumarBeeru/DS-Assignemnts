{
 "cells": [
  {
   "cell_type": "markdown",
   "id": "3d298952",
   "metadata": {},
   "source": [
    "1.  Values :  \"hello\", -87.8, 6 \n",
    "    Expression :  *, -, /, +\n",
    "    \n",
    "2.  string is a value while variable is a container.\n",
    "\n",
    "3. Three datatypes of pythons:\n",
    "    a. Number: Identify numeric vaule,  that we can use in mathematical operation\n",
    "    b. Set: Set of unique value in unordered list\n",
    "    c. String: String is a sequence of unicode charecters\n",
    "    \n",
    "4. Expression is the combination of the opearnds and operators. Its used to obtain a specific result.\n",
    "\n",
    "5. Expression is used to perform a operation while assignment operator is used to assign the result or value to the variable.\n",
    "6. bacon = 22\n",
    "7. 'spamspamspam' in both terms.\n",
    "8. Because variable name can not start with a number.\n",
    "9. int() for integer, float() for floating-points and str() for string \n",
    "10.  here 99 is na integer so it can not concatenate with the string. we can fix using typecast.  \n",
    "'i have eaten '+ str(99) + 'burritos'"
   ]
  }
 ],
 "metadata": {
  "kernelspec": {
   "display_name": "Python 3 (ipykernel)",
   "language": "python",
   "name": "python3"
  },
  "language_info": {
   "codemirror_mode": {
    "name": "ipython",
    "version": 3
   },
   "file_extension": ".py",
   "mimetype": "text/x-python",
   "name": "python",
   "nbconvert_exporter": "python",
   "pygments_lexer": "ipython3",
   "version": "3.9.7"
  }
 },
 "nbformat": 4,
 "nbformat_minor": 5
}
